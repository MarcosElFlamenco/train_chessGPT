{
 "cells": [
  {
   "cell_type": "code",
   "execution_count": null,
   "metadata": {},
   "outputs": [
    {
     "name": "stdout",
     "output_type": "stream",
     "text": [
      "dict_keys(['100K', '200K', '300K', '400K', '500K', '250K', '350K', '450K', '550K', '600K', '150K', '50K'])\n"
     ]
    }
   ],
   "source": []
  },
  {
   "cell_type": "code",
   "execution_count": null,
   "metadata": {},
   "outputs": [
    {
     "name": "stdout",
     "output_type": "stream",
     "text": [
      "dict_keys(['lichess9gb_8layer', 'random16M_8layer', 'big_random16M_vocab32', 'lichess9gb_vocab32', 'small_random10gb_vocab32', 'gb_lichess9gb_vocab32', 'lichess_8layers_ckpt_no', 'lichess_karvhyp', 'random_karvhypNS', 'random_karvhypNSNR'])\n",
      "dict_keys(['22K', '2K', '21K', '30K', '40K', '50K', '60K', '70K', '80K', '90K', '100K', '110K', '140K', '150K', '160K', '170K', '180K', '120K', '130K'])\n"
     ]
    }
   ],
   "source": [
    "import json\n",
    "import importlib\n",
    "import graphing_results as g\n",
    "importlib.reload(g)\n",
    "\n",
    "storage_file = \"generation_results.json\"\n",
    "\n",
    "with open(storage_file, \"r\") as f:\n",
    "    test_results = json.load(f)\n",
    "\n",
    "print(test_results.keys())\n",
    "print(test_results[\"lichess9gb_8layer\"].keys())\n",
    "for model in test_results.keys():\n",
    "    for iter in test_results[model].keys():\n",
    "        test_result = test_results[model][iter]\n",
    "        del test_results[model][iter]\n",
    "        test_result[model][iter][\"100\"] = test_result\n",
    "        \n",
    "\n",
    "\n",
    "model_prefixes = ['lichess_karvhyp',\"random_karvhypNSNR\"] \n",
    "datasets_to_include = ['random100games', 'lichess13_100g_180m'] \n",
    "#g.plot_error_frequencies(test_results,model_prefixes, datasets_to_include, [50])\n"
   ]
  },
  {
   "cell_type": "code",
   "execution_count": 18,
   "metadata": {},
   "outputs": [
    {
     "name": "stdout",
     "output_type": "stream",
     "text": [
      "False\n"
     ]
    }
   ],
   "source": [
    "import os\n",
    "path = \"home/models/test\"\n",
    "print(os.path.exists(path))"
   ]
  },
  {
   "cell_type": "code",
   "execution_count": 6,
   "metadata": {},
   "outputs": [
    {
     "ename": "AttributeError",
     "evalue": "module 'graphing_results' has no attribute 'plot_error_cloud'",
     "output_type": "error",
     "traceback": [
      "\u001b[0;31m---------------------------------------------------------------------------\u001b[0m",
      "\u001b[0;31mAttributeError\u001b[0m                            Traceback (most recent call last)",
      "Cell \u001b[0;32mIn[6], line 10\u001b[0m\n\u001b[1;32m      6\u001b[0m max_moves_considered \u001b[38;5;241m=\u001b[39m \u001b[38;5;241m100\u001b[39m\n\u001b[1;32m      7\u001b[0m max_games_considered \u001b[38;5;241m=\u001b[39m \u001b[38;5;241m30\u001b[39m\n\u001b[0;32m---> 10\u001b[0m \u001b[43mg\u001b[49m\u001b[38;5;241;43m.\u001b[39;49m\u001b[43mplot_error_cloud\u001b[49m(test_results,model_names,datasets,max_moves_considered,max_games_considered)\n",
      "\u001b[0;31mAttributeError\u001b[0m: module 'graphing_results' has no attribute 'plot_error_cloud'"
     ]
    }
   ],
   "source": [
    "importlib.reload(g)\n",
    "\n",
    "#model_names = [\"random16M_8layer_50K\", \"random16M_8layer_100K\", \"lichess9gb_8layer_50K\",\"lichess9gb_8layer_100K\"]\n",
    "model_names = [\"random16M_8layer_22K\", \"random16M_8layer_50K\", \"random16M_8layer_80K\",\"random16M_8layer_100K\"]\n",
    "datasets = ['random100games']\n",
    "max_moves_considered = 100\n",
    "max_games_considered = 30\n",
    "\n",
    "\n",
    "g.plot_error_cloud(test_results,model_names,datasets,max_moves_considered,max_games_considered)\n",
    "\n"
   ]
  }
 ],
 "metadata": {
  "kernelspec": {
   "display_name": "env",
   "language": "python",
   "name": "python3"
  },
  "language_info": {
   "codemirror_mode": {
    "name": "ipython",
    "version": 3
   },
   "file_extension": ".py",
   "mimetype": "text/x-python",
   "name": "python",
   "nbconvert_exporter": "python",
   "pygments_lexer": "ipython3",
   "version": "3.12.3"
  }
 },
 "nbformat": 4,
 "nbformat_minor": 2
}
