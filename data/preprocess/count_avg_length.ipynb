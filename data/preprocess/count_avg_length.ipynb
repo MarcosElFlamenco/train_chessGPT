{
 "cells": [
  {
   "cell_type": "code",
   "execution_count": 3,
   "metadata": {},
   "outputs": [
    {
     "name": "stdout",
     "output_type": "stream",
     "text": [
      "Average string length: 985.3526666666667\n",
      "Minimum string length: 38\n",
      "Maximum string length: 1023\n"
     ]
    }
   ],
   "source": [
    "import csv\n",
    "\n",
    "##TODO find the good min length and filter the random dataset accordingly\n",
    "\n",
    "def compute_string_lengths(csv_file_path):\n",
    "    total_length = 0\n",
    "    line_count = 0\n",
    "    min_length = float('inf')  # Initialize with infinity for minimum comparison\n",
    "    max_length = float('-inf')  # Initialize with negative infinity for maximum comparison\n",
    "\n",
    "    # Open and read the CSV file\n",
    "    with open(csv_file_path, mode='r', encoding='utf-8') as file:\n",
    "        reader = csv.reader(file)\n",
    "        \n",
    "        for row in reader:\n",
    "            if row:  # Ensure the row is not empty\n",
    "                string = row[0]  # Access the single column\n",
    "                length = len(string)\n",
    "                \n",
    "                total_length += length  # Add the length of the string\n",
    "                line_count += 1  # Increment the line count\n",
    "                \n",
    "                # Update minimum and maximum lengths\n",
    "                if length < min_length:\n",
    "                    min_length = length\n",
    "                if length > max_length:\n",
    "                    max_length = length\n",
    "    \n",
    "    # Avoid division by zero for average\n",
    "    average_length = total_length / line_count if line_count > 0 else 0\n",
    "    min_length = min_length if line_count > 0 else 0  # Handle empty file edge case\n",
    "    max_length = max_length if line_count > 0 else 0\n",
    "    \n",
    "    return average_length, min_length, max_length\n",
    "\n",
    "# Path to your CSV file\n",
    "csv_file_path = 'randomforstats.csv'\n",
    "\n",
    "# Compute string lengths\n",
    "average_length, min_length, max_length = compute_string_lengths(csv_file_path)\n",
    "\n",
    "# Print the results\n",
    "print(f\"Average string length: {average_length}\")\n",
    "print(f\"Minimum string length: {min_length}\")\n",
    "print(f\"Maximum string length: {max_length}\")\n"
   ]
  }
 ],
 "metadata": {
  "kernelspec": {
   "display_name": "env",
   "language": "python",
   "name": "python3"
  },
  "language_info": {
   "codemirror_mode": {
    "name": "ipython",
    "version": 3
   },
   "file_extension": ".py",
   "mimetype": "text/x-python",
   "name": "python",
   "nbconvert_exporter": "python",
   "pygments_lexer": "ipython3",
   "version": "3.12.3"
  }
 },
 "nbformat": 4,
 "nbformat_minor": 2
}
