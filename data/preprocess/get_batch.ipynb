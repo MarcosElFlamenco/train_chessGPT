{
 "cells": [
  {
   "cell_type": "code",
   "execution_count": 2,
   "metadata": {},
   "outputs": [
    {
     "ename": "FileNotFoundError",
     "evalue": "[Errno 2] No such file or directory: 'train.bin'",
     "output_type": "error",
     "traceback": [
      "\u001b[0;31m---------------------------------------------------------------------------\u001b[0m",
      "\u001b[0;31mFileNotFoundError\u001b[0m                         Traceback (most recent call last)",
      "Cell \u001b[0;32mIn[2], line 12\u001b[0m\n\u001b[1;32m     10\u001b[0m \u001b[38;5;66;03m# poor man's data loader\u001b[39;00m\n\u001b[1;32m     11\u001b[0m data_dir \u001b[38;5;241m=\u001b[39m dataset\n\u001b[0;32m---> 12\u001b[0m train_data \u001b[38;5;241m=\u001b[39m \u001b[43mnp\u001b[49m\u001b[38;5;241;43m.\u001b[39;49m\u001b[43mmemmap\u001b[49m\u001b[43m(\u001b[49m\u001b[43mos\u001b[49m\u001b[38;5;241;43m.\u001b[39;49m\u001b[43mpath\u001b[49m\u001b[38;5;241;43m.\u001b[39;49m\u001b[43mjoin\u001b[49m\u001b[43m(\u001b[49m\u001b[43mdata_dir\u001b[49m\u001b[43m,\u001b[49m\u001b[43m \u001b[49m\u001b[38;5;124;43m'\u001b[39;49m\u001b[38;5;124;43mtrain.bin\u001b[39;49m\u001b[38;5;124;43m'\u001b[39;49m\u001b[43m)\u001b[49m\u001b[43m,\u001b[49m\u001b[43m \u001b[49m\u001b[43mdtype\u001b[49m\u001b[38;5;241;43m=\u001b[39;49m\u001b[43mnp\u001b[49m\u001b[38;5;241;43m.\u001b[39;49m\u001b[43muint8\u001b[49m\u001b[43m,\u001b[49m\u001b[43m \u001b[49m\u001b[43mmode\u001b[49m\u001b[38;5;241;43m=\u001b[39;49m\u001b[38;5;124;43m'\u001b[39;49m\u001b[38;5;124;43mr\u001b[39;49m\u001b[38;5;124;43m'\u001b[39;49m\u001b[43m)\u001b[49m\n\u001b[1;32m     13\u001b[0m val_data \u001b[38;5;241m=\u001b[39m np\u001b[38;5;241m.\u001b[39mmemmap(os\u001b[38;5;241m.\u001b[39mpath\u001b[38;5;241m.\u001b[39mjoin(data_dir, \u001b[38;5;124m'\u001b[39m\u001b[38;5;124mval.bin\u001b[39m\u001b[38;5;124m'\u001b[39m), dtype\u001b[38;5;241m=\u001b[39mnp\u001b[38;5;241m.\u001b[39muint8, mode\u001b[38;5;241m=\u001b[39m\u001b[38;5;124m'\u001b[39m\u001b[38;5;124mr\u001b[39m\u001b[38;5;124m'\u001b[39m)\n\u001b[1;32m     14\u001b[0m \u001b[38;5;28;01mdef\u001b[39;00m \u001b[38;5;21mget_batch\u001b[39m(split):\n",
      "File \u001b[0;32m~/miniconda3/envs/train_chessGPT/lib/python3.12/site-packages/numpy/core/memmap.py:229\u001b[0m, in \u001b[0;36mmemmap.__new__\u001b[0;34m(subtype, filename, dtype, mode, offset, shape, order)\u001b[0m\n\u001b[1;32m    227\u001b[0m     f_ctx \u001b[38;5;241m=\u001b[39m nullcontext(filename)\n\u001b[1;32m    228\u001b[0m \u001b[38;5;28;01melse\u001b[39;00m:\n\u001b[0;32m--> 229\u001b[0m     f_ctx \u001b[38;5;241m=\u001b[39m \u001b[38;5;28;43mopen\u001b[39;49m\u001b[43m(\u001b[49m\u001b[43mos_fspath\u001b[49m\u001b[43m(\u001b[49m\u001b[43mfilename\u001b[49m\u001b[43m)\u001b[49m\u001b[43m,\u001b[49m\u001b[43m \u001b[49m\u001b[43m(\u001b[49m\u001b[38;5;124;43m'\u001b[39;49m\u001b[38;5;124;43mr\u001b[39;49m\u001b[38;5;124;43m'\u001b[39;49m\u001b[43m \u001b[49m\u001b[38;5;28;43;01mif\u001b[39;49;00m\u001b[43m \u001b[49m\u001b[43mmode\u001b[49m\u001b[43m \u001b[49m\u001b[38;5;241;43m==\u001b[39;49m\u001b[43m \u001b[49m\u001b[38;5;124;43m'\u001b[39;49m\u001b[38;5;124;43mc\u001b[39;49m\u001b[38;5;124;43m'\u001b[39;49m\u001b[43m \u001b[49m\u001b[38;5;28;43;01melse\u001b[39;49;00m\u001b[43m \u001b[49m\u001b[43mmode\u001b[49m\u001b[43m)\u001b[49m\u001b[38;5;241;43m+\u001b[39;49m\u001b[38;5;124;43m'\u001b[39;49m\u001b[38;5;124;43mb\u001b[39;49m\u001b[38;5;124;43m'\u001b[39;49m\u001b[43m)\u001b[49m\n\u001b[1;32m    231\u001b[0m \u001b[38;5;28;01mwith\u001b[39;00m f_ctx \u001b[38;5;28;01mas\u001b[39;00m fid:\n\u001b[1;32m    232\u001b[0m     fid\u001b[38;5;241m.\u001b[39mseek(\u001b[38;5;241m0\u001b[39m, \u001b[38;5;241m2\u001b[39m)\n",
      "\u001b[0;31mFileNotFoundError\u001b[0m: [Errno 2] No such file or directory: 'train.bin'"
     ]
    }
   ],
   "source": [
    "import os\n",
    "import numpy as np\n",
    "import torch\n",
    "\n",
    "device = 'cpu'\n",
    "block_size = 1023\n",
    "batch_size = 2\n",
    "dataset = ''\n",
    "\n",
    "# poor man's data loader\n",
    "data_dir = dataset\n",
    "train_data = np.memmap(os.path.join(data_dir, 'train.bin'), dtype=np.uint8, mode='r')\n",
    "val_data = np.memmap(os.path.join(data_dir, 'val.bin'), dtype=np.uint8, mode='r')\n",
    "def get_batch(split):\n",
    "    data = train_data if split == 'train' else val_data\n",
    "    # ix = torch.randint(len(data) - block_size, (batch_size,))\n",
    "    # Ensure the starting index is a multiple of block_size\n",
    "    ix = torch.randint(0, len(data) // (block_size + 1), (batch_size,)) * (block_size + 1)\n",
    "    x = torch.stack([torch.from_numpy((data[i:i+block_size]).astype(np.int64)) for i in ix])\n",
    "    y = torch.stack([torch.from_numpy((data[i+1:i+1+block_size]).astype(np.int64)) for i in ix])\n",
    "    x, y = x.to(device), y.to(device)\n",
    "    return x, y"
   ]
  },
  {
   "cell_type": "code",
   "execution_count": 3,
   "metadata": {},
   "outputs": [
    {
     "name": "stdout",
     "output_type": "stream",
     "text": [
      "8394215424\n",
      "82803.0\n"
     ]
    }
   ],
   "source": [
    "print(len(train_data))\n",
    "print(len(val_data) / 1024)"
   ]
  },
  {
   "cell_type": "code",
   "execution_count": 4,
   "metadata": {},
   "outputs": [
    {
     "name": "stdout",
     "output_type": "stream",
     "text": [
      "{'vocab_size': 32, 'itos': {0: ' ', 1: '#', 2: '+', 3: '-', 4: '.', 5: '0', 6: '1', 7: '2', 8: '3', 9: '4', 10: '5', 11: '6', 12: '7', 13: '8', 14: '9', 15: ';', 16: '=', 17: 'B', 18: 'K', 19: 'N', 20: 'O', 21: 'Q', 22: 'R', 23: 'a', 24: 'b', 25: 'c', 26: 'd', 27: 'e', 28: 'f', 29: 'g', 30: 'h', 31: 'x'}, 'stoi': {' ': 0, '#': 1, '+': 2, '-': 3, '.': 4, '0': 5, '1': 6, '2': 7, '3': 8, '4': 9, '5': 10, '6': 11, '7': 12, '8': 13, '9': 14, ';': 15, '=': 16, 'B': 17, 'K': 18, 'N': 19, 'O': 20, 'Q': 21, 'R': 22, 'a': 23, 'b': 24, 'c': 25, 'd': 26, 'e': 27, 'f': 28, 'g': 29, 'h': 30, 'x': 31}}\n"
     ]
    }
   ],
   "source": [
    "import pickle\n",
    "import os\n",
    "\n",
    "\n",
    "# Usage\n",
    "# meta_file_path = os.path.join(os.path.dirname(__file__), 'meta.pkl')\n",
    "file_path = 'meta.pkl'\n",
    "with open(file_path, 'rb') as f:\n",
    "    data = pickle.load(f)\n",
    "print(data)\n",
    "\n",
    "itos = data['itos']\n",
    "\n",
    "def decode(l):\n",
    "    return ''.join([itos[i] for i in l]) # decoder: take a list of integers, output a string"
   ]
  },
  {
   "cell_type": "code",
   "execution_count": 5,
   "metadata": {},
   "outputs": [
    {
     "name": "stdout",
     "output_type": "stream",
     "text": [
      "Batch\n",
      "tensor([[15,  6,  4,  ...,  0, 17, 29],\n",
      "        [15,  6,  4,  ...,  6,  2,  0]])\n",
      "y\n",
      "tensor([[ 6,  4, 27,  ..., 17, 29,  7],\n",
      "        [ 6,  4, 27,  ...,  2,  0,  7]])\n"
     ]
    }
   ],
   "source": [
    "X, Y = get_batch('val')\n",
    "print(\"Batch\")\n",
    "print(X)\n",
    "print(\"y\")\n",
    "print(Y)"
   ]
  },
  {
   "cell_type": "code",
   "execution_count": 6,
   "metadata": {},
   "outputs": [
    {
     "name": "stdout",
     "output_type": "stream",
     "text": [
      ";1.e3 d5 2.d3 Bg4 3.c3 Bxd1 4.Kxd1 Nf6 5.Kc2 e5 6.Kb3 e4 7.Kc2 d4 8.dxe4 dxe3 9.Bxe3 Nxe4 10.Nf3 f5 11.Bd3 f4 12.Bxe4 fxe3 13.fxe3 Qe7 14.Nfd2 Nc6 15.Re1 Ne5 16.Bxb7 Rb8 17.Ba6 Qc5 18.b4 Qb5 19.Bxb5+ Rxb5 20.a4 Rb8 21.Na3 Rd8 22.Nac4 Nxc4 23.Nxc4 Bd6 24.Nxd6+ cxd6 25.c4 O-O 26.b5 Rf2+ 27.Kd3 Rdf8 28.Re2 R2f6 29.e4 d5 30.exd5 R8f7 31.Re3 Rf2 32.Re2 R2f5 33.Rae1 Rf4 34.Re4 Rf8 35.R1e2 R4f6 36.Kd4 g6 37.c5 Kg7 38.d6 R6f7 39.c6 Rd8 40.a5 Rxd6+ 41.Kc5 Rff6 42.b6 axb6+ 43.Kb5 bxa5 44.Kxa5 Rxc6 45.Re7+ Kh6 46.R2e5 Ra6+ 47.Kb5 Rfb6+ 48.Kc5 Rc6+ 49.Kd5 Rcb6 50.Ke4 Ra4+ 51.Kf3 Rbb4 52.Ke2 Rb3 53.Kd2 Ra2+ 54.Kc1 Re3 55.Rb5 Rf2 56.Rb2;1.e4 d6 2.d4 g6 3.Be3 Bg7 4.Bd3 c5 5.c3 cxd4 6.cxd4 e5 7.dxe5 dxe5 8.Ne2 Bg4 9.f3 Be6 10.O-O Ne7 11.Nbc3 O-O 12.a3 Nbc6 13.b4 Bb3 14.Qb1 Nd4 15.Nb5 Nxe2+ 16.Bxe2 Ba4 17.Qb2 Bxb5 18.Bxb5 Qd3 19.Bxd3;1.e4 a6 2.d4 b5 3.Nf3 f6 4.Nc3 g5 5.b4 e6 6.Bb2 Bxb4 7.d5 e5 8.g4 d6 9.h3 h5 10.Bd3 hxg4 11.Nh2 gxh3 12.O-O Bxc3 13.Bxc3 Ne7 14.Qf3 Ng6 15.Ng4 Nf4 16.Ne3 h2+ 17.Kh1 Bh3 18.Rg1 hxg1=Q+ 19.Rxg1 Bg\n",
      ";1.e4 e5 2.Nf3 Nc6 3.Bb5 Nf6 4.O-O d5 5.exd5 Nxd5 6.Nxe5 Bd6 7.Nxc6 bxc6 8.Bxc6+ Bd7 9.Bxa8 Qxa8 10.Qe2+ Ne7 11.Nc3 O-O 12.d4 Ng6 13.Be3 Bc6 14.f3 Bf4 15.Bxf4 Nxf4 16.Qd2 Ng6 17.Rad1 Qb8 18.b3 Bb7 19.d5 Qc8 20.Na4 Ne7 21.Nc5 Ba8 22.c4 Ng6 23.Rfe1 h6 24.Ne4 Ne5 25.Qc2 f6 26.d6 cxd6 27.Nxd6 Qc7 28.c5 Bc6 29.f4 Nd7 30.Qc4+ Kh8 31.Re7 Bxg2 32.Rde1 Bh1 33.Qe2 Qc6 34.Rxg7 Kxg7 35.Nf5+ Kf7 36.Qg4 Qg2+ 37.Qxg2 Bxg2 38.Kxg2 Ne5 39.Kf2;1.d4 d6 2.c4 g6 3.Nc3 Bg7 4.e4 Nf6 5.f4 O-O 6.Nf3 Nbd7 7.Bd3 e5 8.dxe5 dxe5 9.f5 Re8 10.fxg6 fxg6 11.O-O Nc5 12.Bc2 Qxd1 13.Rxd1 Be6 14.b3 Rad8 15.Bg5 h6 16.Bh4 g5 17.Bg3 Ng4 18.Nd5 Bxd5 19.cxd5 Ne3 20.Rd2 Nxc2 21.Rxc2 Nxe4 22.Rxc7 Rxd5 23.Re1 Nd2 24.Nxd2 Rxd2 25.Rxb7 Rxa2 26.h3 e4 27.Kh2 e3 28.b4 e2 29.b5 Bc3;1.g3 f5 2.f4 d5 3.Bg2 e6 4.Nf3 Nf6 5.O-O Bd6 6.d3 O-O 7.c3 c5 8.Nbd2 Nc6 9.Re1 Qb6 10.c4 d4 11.a3 a5 12.e4 dxe3 13.Rxe3 Bd7 14.Ne5 Bxe5 15.fxe5 Ng4 16.Nf3 Nxe3 17.Bxe3 Rad8 18.b4 axb4 19.axb4 Nxb4 20.Rb1 Bc6 21.Bd2 Rxd3 22.Qe2 Rfd8 23.Bf4 Qa6 24.Ng5 Bxg2 25.Qxg2 Qxc4 26.Qxb7 Rd1+ \n",
      "1.e3 d5 2.d3 Bg4 3.c3 Bxd1 4.Kxd1 Nf6 5.Kc2 e5 6.Kb3 e4 7.Kc2 d4 8.dxe4 dxe3 9.Bxe3 Nxe4 10.Nf3 f5 11.Bd3 f4 12.Bxe4 fxe3 13.fxe3 Qe7 14.Nfd2 Nc6 15.Re1 Ne5 16.Bxb7 Rb8 17.Ba6 Qc5 18.b4 Qb5 19.Bxb5+ Rxb5 20.a4 Rb8 21.Na3 Rd8 22.Nac4 Nxc4 23.Nxc4 Bd6 24.Nxd6+ cxd6 25.c4 O-O 26.b5 Rf2+ 27.Kd3 Rdf8 28.Re2 R2f6 29.e4 d5 30.exd5 R8f7 31.Re3 Rf2 32.Re2 R2f5 33.Rae1 Rf4 34.Re4 Rf8 35.R1e2 R4f6 36.Kd4 g6 37.c5 Kg7 38.d6 R6f7 39.c6 Rd8 40.a5 Rxd6+ 41.Kc5 Rff6 42.b6 axb6+ 43.Kb5 bxa5 44.Kxa5 Rxc6 45.Re7+ Kh6 46.R2e5 Ra6+ 47.Kb5 Rfb6+ 48.Kc5 Rc6+ 49.Kd5 Rcb6 50.Ke4 Ra4+ 51.Kf3 Rbb4 52.Ke2 Rb3 53.Kd2 Ra2+ 54.Kc1 Re3 55.Rb5 Rf2 56.Rb2;1.e4 d6 2.d4 g6 3.Be3 Bg7 4.Bd3 c5 5.c3 cxd4 6.cxd4 e5 7.dxe5 dxe5 8.Ne2 Bg4 9.f3 Be6 10.O-O Ne7 11.Nbc3 O-O 12.a3 Nbc6 13.b4 Bb3 14.Qb1 Nd4 15.Nb5 Nxe2+ 16.Bxe2 Ba4 17.Qb2 Bxb5 18.Bxb5 Qd3 19.Bxd3;1.e4 a6 2.d4 b5 3.Nf3 f6 4.Nc3 g5 5.b4 e6 6.Bb2 Bxb4 7.d5 e5 8.g4 d6 9.h3 h5 10.Bd3 hxg4 11.Nh2 gxh3 12.O-O Bxc3 13.Bxc3 Ne7 14.Qf3 Ng6 15.Ng4 Nf4 16.Ne3 h2+ 17.Kh1 Bh3 18.Rg1 hxg1=Q+ 19.Rxg1 Bg2\n",
      "1.e4 e5 2.Nf3 Nc6 3.Bb5 Nf6 4.O-O d5 5.exd5 Nxd5 6.Nxe5 Bd6 7.Nxc6 bxc6 8.Bxc6+ Bd7 9.Bxa8 Qxa8 10.Qe2+ Ne7 11.Nc3 O-O 12.d4 Ng6 13.Be3 Bc6 14.f3 Bf4 15.Bxf4 Nxf4 16.Qd2 Ng6 17.Rad1 Qb8 18.b3 Bb7 19.d5 Qc8 20.Na4 Ne7 21.Nc5 Ba8 22.c4 Ng6 23.Rfe1 h6 24.Ne4 Ne5 25.Qc2 f6 26.d6 cxd6 27.Nxd6 Qc7 28.c5 Bc6 29.f4 Nd7 30.Qc4+ Kh8 31.Re7 Bxg2 32.Rde1 Bh1 33.Qe2 Qc6 34.Rxg7 Kxg7 35.Nf5+ Kf7 36.Qg4 Qg2+ 37.Qxg2 Bxg2 38.Kxg2 Ne5 39.Kf2;1.d4 d6 2.c4 g6 3.Nc3 Bg7 4.e4 Nf6 5.f4 O-O 6.Nf3 Nbd7 7.Bd3 e5 8.dxe5 dxe5 9.f5 Re8 10.fxg6 fxg6 11.O-O Nc5 12.Bc2 Qxd1 13.Rxd1 Be6 14.b3 Rad8 15.Bg5 h6 16.Bh4 g5 17.Bg3 Ng4 18.Nd5 Bxd5 19.cxd5 Ne3 20.Rd2 Nxc2 21.Rxc2 Nxe4 22.Rxc7 Rxd5 23.Re1 Nd2 24.Nxd2 Rxd2 25.Rxb7 Rxa2 26.h3 e4 27.Kh2 e3 28.b4 e2 29.b5 Bc3;1.g3 f5 2.f4 d5 3.Bg2 e6 4.Nf3 Nf6 5.O-O Bd6 6.d3 O-O 7.c3 c5 8.Nbd2 Nc6 9.Re1 Qb6 10.c4 d4 11.a3 a5 12.e4 dxe3 13.Rxe3 Bd7 14.Ne5 Bxe5 15.fxe5 Ng4 16.Nf3 Nxe3 17.Bxe3 Rad8 18.b4 axb4 19.axb4 Nxb4 20.Rb1 Bc6 21.Bd2 Rxd3 22.Qe2 Rfd8 23.Bf4 Qa6 24.Ng5 Bxg2 25.Qxg2 Qxc4 26.Qxb7 Rd1+ 2\n"
     ]
    }
   ],
   "source": [
    "print(decode(X[0].tolist()))\n",
    "print(decode(X[1].tolist()))\n",
    "print(decode(Y[0].tolist()))\n",
    "print(decode(Y[1].tolist()))"
   ]
  }
 ],
 "metadata": {
  "kernelspec": {
   "display_name": "train_chessGPT",
   "language": "python",
   "name": "python3"
  },
  "language_info": {
   "codemirror_mode": {
    "name": "ipython",
    "version": 3
   },
   "file_extension": ".py",
   "mimetype": "text/x-python",
   "name": "python",
   "nbconvert_exporter": "python",
   "pygments_lexer": "ipython3",
   "version": "3.12.6"
  }
 },
 "nbformat": 4,
 "nbformat_minor": 2
}
