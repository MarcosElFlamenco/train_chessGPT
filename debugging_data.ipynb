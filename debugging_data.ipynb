{
 "cells": [
  {
   "cell_type": "code",
   "execution_count": 6,
   "metadata": {},
   "outputs": [],
   "source": [
    "def print_integers_from_binary_file(file_path, start_line, end_line):\n",
    "    \"\"\"\n",
    "    Reads integers from a binary file (assuming one integer per line) and prints the integers\n",
    "    from start_line to end_line (inclusive).\n",
    "\n",
    "    Parameters:\n",
    "        file_path (str): Path to the binary file.\n",
    "        start_line (int): The starting line number (1-based index).\n",
    "        end_line (int): The ending line number (1-based index).\n",
    "    \"\"\"\n",
    "    try:\n",
    "        with open(file_path, 'rb') as binary_file:\n",
    "            for current_line_number, line in enumerate(binary_file, start=1):\n",
    "                if start_line <= current_line_number <= end_line:\n",
    "                    try:\n",
    "                        integer_value = int.from_bytes(line.strip(), byteorder='big', signed=True)\n",
    "                        print(f\"Line {current_line_number}: {integer_value}\")\n",
    "                    except ValueError:\n",
    "                        print(f\"Line {current_line_number}: Could not decode to integer\")\n",
    "                elif current_line_number > end_line:\n",
    "                    break\n",
    "    except FileNotFoundError:\n",
    "        print(f\"Error: File '{file_path}' not found.\")\n",
    "    except Exception as e:\n",
    "        print(f\"An error occurred: {e}\")"
   ]
  },
  {
   "cell_type": "code",
   "execution_count": 7,
   "metadata": {},
   "outputs": [
    {
     "name": "stdout",
     "output_type": "stream",
     "text": [
      "length of data is 8080944128\n",
      "tensor shape torch.Size([28, 0])\n",
      "tensor first dim 28\n"
     ]
    }
   ],
   "source": [
    "import torch\n",
    "import numpy as np\n",
    "import random\n",
    "\n",
    "file_path = 'data/trainrandom6gb.bin'  # Replace with the path to your binary file\n",
    "train_data = np.memmap(file_path, dtype=np.uint8, mode='r')\n",
    "block_size = 1023\n",
    "batch_size = 1\n",
    "\n",
    "\n",
    "seed = 44\n",
    "##controling seeding\n",
    "random.seed(seed)\n",
    "np.random.seed(seed)\n",
    "torch.manual_seed(seed)\n",
    "\n",
    "\n",
    "def get_batch_random():\n",
    "    data = train_data\n",
    "    # ix = torch.randint(len(data) - block_size, (batch_size,))\n",
    "    # Ensure the starting index is a multiple of block_size\n",
    "    ix = torch.randint(0, len(data) // (block_size + 1), (batch_size,)) * (block_size + 1)\n",
    "    x = torch.stack([torch.from_numpy((data[i:i+block_size]).astype(np.int64)) for i in ix])\n",
    "    y = torch.stack([torch.from_numpy((data[i+1:i+1+block_size]).astype(np.int64)) for i in ix])\n",
    "    return x, y\n",
    "\n",
    "data = train_data\n",
    "print(f\"length of data is {len(data)}\")\n",
    " \n",
    "def get_batch_index(a,b):\n",
    "   # ix = torch.randint(len(data) - block_size, (batch_size,))\n",
    "    # Ensure the starting index is a multiple of block_size\n",
    "    ix = torch.tensor(range(a,b)) * (block_size + 1)\n",
    "    x = torch.stack([torch.from_numpy((data[i:i+block_size]).astype(np.int64)) for i in ix])\n",
    "    y = torch.stack([torch.from_numpy((data[i+1:i+1+block_size]).astype(np.int64)) for i in ix])\n",
    "    return x, y\n",
    "\n",
    "\n",
    "def write_tensor_to_file(tensor, tensor2,output_path):\n",
    "    \"\"\"\n",
    "    Writes a PyTorch tensor to a file in a human-readable format.\n",
    "\n",
    "    Parameters:\n",
    "        tensor (torch.Tensor): The tensor to write to the file.\n",
    "        output_path (str): Path to the output text file.\n",
    "    \"\"\"\n",
    "    try:\n",
    "        with open(output_path, 'w') as output_file:\n",
    "            output_file.write(str(tensor))\n",
    "            output_file.write('\\n')\n",
    "    except Exception as e:\n",
    "        print(f\"An error occurred: {e}\")\n",
    "\n",
    "\n",
    "def write_tensor_to_file(tensor, output_path):\n",
    "    \"\"\"\n",
    "    Writes a PyTorch tensor to a file in a single line.\n",
    "\n",
    "    Parameters:\n",
    "        tensor (torch.Tensor): The tensor to write to the file.\n",
    "        output_path (str): Path to the output text file.\n",
    "    \"\"\"\n",
    "    print(f\"tensor shape {tensor.shape}\")\n",
    "    print(f\"tensor first dim {tensor.shape[0]}\")\n",
    "    try:\n",
    "        with open(output_path, 'w') as output_file:\n",
    "            for i in range(tensor.shape[0]):\n",
    "                tensor_str = torch.flatten(tensor[i]).tolist()  # Flatten the tensor to 1D and convert to a list\n",
    "                output_file.write(str(tensor_str) + '\\n')  # Write the tensor as a single-line string\n",
    "    except Exception as e:\n",
    "        print(f\"An error occurred: {e}\")\n",
    "x,y = get_batch_index(8080944100,8080944128)\n",
    "output_file = \"output.txt\"\n",
    "\n",
    "torch.set_printoptions(threshold=100000)\n",
    "\n",
    "write_tensor_to_file(x,output_file)"
   ]
  },
  {
   "cell_type": "code",
   "execution_count": 7,
   "metadata": {},
   "outputs": [
    {
     "name": "stdout",
     "output_type": "stream",
     "text": [
      "\u0004\u0000\u001c\u001f\u001d\t\u0000\u0017\u000b\u0000\u0006\u000e\u0004\u0000\u0013\u0018\u0000\u001c\t\u0000\u0006\f\u0004\u0000\u0015\u0018\u0006\u0000\u0011\u001b\u000b\u0000\u0006\n",
      "\u0000\u0011\u001b\f\u0000\u0007\u0005\u0004\u0000\u0013\u0000\u0013\n",
      "\u0000\u0007\u0006\u0004\u0000\u0015\n",
      "\u0000\u0007\t\u0004\u0000\u0015\u0000\u0012\u001d\u0000\u0016\u0018\u0006\u0000\u0016\u001d\u0019\n",
      "\u0002\u0000\u0012\u001c\f\u0000\u0007\n",
      "\u0004\u0000\u0018\u001f\u0019\n",
      "\u0005\u0004\u0000\u0012\u0000\u0013\u001f\u0019\u0000\u0016\u001b\u0006\u0000\u0016\u001e\n",
      "\u0006\u0004\u0000\u0016\u0000\u0015\u0019\u000b\u0007\u0004\u0000\u0015\u001f\u001b\n",
      "\u0000\u0011\u001c\u0004\u0000\u0015\u001f\u001a\n",
      "\t\u0004\u0000\u0016\u0019\u0007\u0000\u0015\u001a\f\n",
      "\u0004\u0000\u0015\n"
     ]
    }
   ],
   "source": [
    "# Example usage\n",
    "file_path = 'data/trainrandom6gb.bin'  # Replace with the path to your binary file\n",
    "start_line = 10  # Replace with the starting line number\n",
    "end_line = 20    # Replace with the ending line number\n",
    "\n",
    "print_lines_from_binary_file(file_path, start_line, end_line)"
   ]
  }
 ],
 "metadata": {
  "kernelspec": {
   "display_name": "env",
   "language": "python",
   "name": "python3"
  },
  "language_info": {
   "codemirror_mode": {
    "name": "ipython",
    "version": 3
   },
   "file_extension": ".py",
   "mimetype": "text/x-python",
   "name": "python",
   "nbconvert_exporter": "python",
   "pygments_lexer": "ipython3",
   "version": "3.12.3"
  }
 },
 "nbformat": 4,
 "nbformat_minor": 2
}
